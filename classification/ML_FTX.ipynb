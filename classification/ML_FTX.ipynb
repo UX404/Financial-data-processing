{
  "nbformat": 4,
  "nbformat_minor": 0,
  "metadata": {
    "colab": {
      "name": "ML_FTX.ipynb",
      "provenance": []
    },
    "kernelspec": {
      "name": "python3",
      "display_name": "Python 3.7.6 64-bit ('base': conda)"
    },
    "language_info": {
      "name": "python",
      "version": "3.7.6"
    },
    "interpreter": {
      "hash": "01a87ff6733c416d09f5eac0a50a4a908b985a470771f42a6d71c80298923cc0"
    }
  },
  "cells": [
    {
      "cell_type": "code",
      "metadata": {
        "id": "egioEjji_3e5"
      },
      "source": [
        "%tensorflow_version 2.x"
      ],
      "execution_count": null,
      "outputs": []
    },
    {
      "cell_type": "code",
      "metadata": {
        "id": "ukVS83M0ABUd"
      },
      "source": [
        "import pandas as pd\n",
        "import numpy as np\n",
        "import matplotlib.pyplot as plt\n",
        "import seaborn as sns\n",
        "from sklearn.model_selection import train_test_split\n",
        "from sklearn.preprocessing import StandardScaler\n",
        "from tensorflow.keras.models import Sequential, load_model\n",
        "from tensorflow.keras.layers import Dense\n",
        "from tensorflow.keras.callbacks import ModelCheckpoint\n",
        "from sklearn.metrics import confusion_matrix"
      ],
      "execution_count": 1,
      "outputs": [
        {
          "output_type": "stream",
          "name": "stderr",
          "text": [
            "C:\\Users\\gzfox\\Anaconda3\\lib\\site-packages\\tensorflow\\python\\framework\\dtypes.py:516: FutureWarning: Passing (type, 1) or '1type' as a synonym of type is deprecated; in a future version of numpy, it will be understood as (type, (1,)) / '(1,)type'.\n",
            "  _np_qint8 = np.dtype([(\"qint8\", np.int8, 1)])\n",
            "C:\\Users\\gzfox\\Anaconda3\\lib\\site-packages\\tensorflow\\python\\framework\\dtypes.py:517: FutureWarning: Passing (type, 1) or '1type' as a synonym of type is deprecated; in a future version of numpy, it will be understood as (type, (1,)) / '(1,)type'.\n",
            "  _np_quint8 = np.dtype([(\"quint8\", np.uint8, 1)])\n",
            "C:\\Users\\gzfox\\Anaconda3\\lib\\site-packages\\tensorflow\\python\\framework\\dtypes.py:518: FutureWarning: Passing (type, 1) or '1type' as a synonym of type is deprecated; in a future version of numpy, it will be understood as (type, (1,)) / '(1,)type'.\n",
            "  _np_qint16 = np.dtype([(\"qint16\", np.int16, 1)])\n",
            "C:\\Users\\gzfox\\Anaconda3\\lib\\site-packages\\tensorflow\\python\\framework\\dtypes.py:519: FutureWarning: Passing (type, 1) or '1type' as a synonym of type is deprecated; in a future version of numpy, it will be understood as (type, (1,)) / '(1,)type'.\n",
            "  _np_quint16 = np.dtype([(\"quint16\", np.uint16, 1)])\n",
            "C:\\Users\\gzfox\\Anaconda3\\lib\\site-packages\\tensorflow\\python\\framework\\dtypes.py:520: FutureWarning: Passing (type, 1) or '1type' as a synonym of type is deprecated; in a future version of numpy, it will be understood as (type, (1,)) / '(1,)type'.\n",
            "  _np_qint32 = np.dtype([(\"qint32\", np.int32, 1)])\n",
            "C:\\Users\\gzfox\\Anaconda3\\lib\\site-packages\\tensorflow\\python\\framework\\dtypes.py:525: FutureWarning: Passing (type, 1) or '1type' as a synonym of type is deprecated; in a future version of numpy, it will be understood as (type, (1,)) / '(1,)type'.\n",
            "  np_resource = np.dtype([(\"resource\", np.ubyte, 1)])\n",
            "C:\\Users\\gzfox\\Anaconda3\\lib\\site-packages\\tensorboard\\compat\\tensorflow_stub\\dtypes.py:541: FutureWarning: Passing (type, 1) or '1type' as a synonym of type is deprecated; in a future version of numpy, it will be understood as (type, (1,)) / '(1,)type'.\n",
            "  _np_qint8 = np.dtype([(\"qint8\", np.int8, 1)])\n",
            "C:\\Users\\gzfox\\Anaconda3\\lib\\site-packages\\tensorboard\\compat\\tensorflow_stub\\dtypes.py:542: FutureWarning: Passing (type, 1) or '1type' as a synonym of type is deprecated; in a future version of numpy, it will be understood as (type, (1,)) / '(1,)type'.\n",
            "  _np_quint8 = np.dtype([(\"quint8\", np.uint8, 1)])\n",
            "C:\\Users\\gzfox\\Anaconda3\\lib\\site-packages\\tensorboard\\compat\\tensorflow_stub\\dtypes.py:543: FutureWarning: Passing (type, 1) or '1type' as a synonym of type is deprecated; in a future version of numpy, it will be understood as (type, (1,)) / '(1,)type'.\n",
            "  _np_qint16 = np.dtype([(\"qint16\", np.int16, 1)])\n",
            "C:\\Users\\gzfox\\Anaconda3\\lib\\site-packages\\tensorboard\\compat\\tensorflow_stub\\dtypes.py:544: FutureWarning: Passing (type, 1) or '1type' as a synonym of type is deprecated; in a future version of numpy, it will be understood as (type, (1,)) / '(1,)type'.\n",
            "  _np_quint16 = np.dtype([(\"quint16\", np.uint16, 1)])\n",
            "C:\\Users\\gzfox\\Anaconda3\\lib\\site-packages\\tensorboard\\compat\\tensorflow_stub\\dtypes.py:545: FutureWarning: Passing (type, 1) or '1type' as a synonym of type is deprecated; in a future version of numpy, it will be understood as (type, (1,)) / '(1,)type'.\n",
            "  _np_qint32 = np.dtype([(\"qint32\", np.int32, 1)])\n",
            "C:\\Users\\gzfox\\Anaconda3\\lib\\site-packages\\tensorboard\\compat\\tensorflow_stub\\dtypes.py:550: FutureWarning: Passing (type, 1) or '1type' as a synonym of type is deprecated; in a future version of numpy, it will be understood as (type, (1,)) / '(1,)type'.\n",
            "  np_resource = np.dtype([(\"resource\", np.ubyte, 1)])\n"
          ]
        }
      ]
    },
    {
      "cell_type": "code",
      "metadata": {
        "colab": {
          "base_uri": "https://localhost:8080/"
        },
        "id": "XOgGpreiADgc",
        "outputId": "137b9e7c-65e7-4f0e-89de-9ecd7640e1cc"
      },
      "source": [
        "data = pd.read_csv(\"account_daily_class28.csv\")\n",
        "#data = data.head()\n",
        "data.shape"
      ],
      "execution_count": 2,
      "outputs": [
        {
          "output_type": "execute_result",
          "data": {
            "text/plain": [
              "(60327, 36)"
            ]
          },
          "metadata": {},
          "execution_count": 2
        }
      ]
    },
    {
      "cell_type": "code",
      "metadata": {
        "colab": {
          "base_uri": "https://localhost:8080/",
          "height": 394
        },
        "id": "wU7wQaTbAlgf",
        "outputId": "b8f2f86b-9807-4cb0-9cd7-fd639c5ca104"
      },
      "source": [
        "data.head()"
      ],
      "execution_count": 3,
      "outputs": [
        {
          "output_type": "execute_result",
          "data": {
            "text/plain": [
              "     User_ID                 TIME  BALANCE_PREV  BALANCE  DEPOSIT  CREDIT  \\\n",
              "0  200000062  2021-02-24 21:59:59          2.76    74.58    300.0       0   \n",
              "1  200000062  2021-02-25 21:59:59         74.58   247.11      0.0       0   \n",
              "2  200000062  2021-02-26 21:59:59        247.11   269.56      0.0       0   \n",
              "3  200000062  2021-02-27 21:59:59        269.56   269.56      0.0       0   \n",
              "4  200000062  2021-02-28 21:59:59        269.56   269.56      0.0       0   \n",
              "\n",
              "   EQUITY  Close_PL  Open_PL      MARGIN  ...  Ratio4  Ratio5  Ratio6  \\\n",
              "0   74.58   -228.18     0.00    0.000000  ...    2.02    1.09    0.36   \n",
              "1  301.76    172.53    54.65  147.105473  ...    1.78    1.08    0.36   \n",
              "2  373.43     22.45   103.87  197.133384  ...    1.76    1.08    0.36   \n",
              "3  373.43      0.00   103.87  197.133384  ...    1.76    1.08    0.36   \n",
              "4  373.43      0.00   103.87  197.133384  ...    1.76    1.08    0.36   \n",
              "\n",
              "   Account_Score  Combined_Score  Profit_Trades_Ratio  Long_Trades_Ratio  \\\n",
              "0       1.520181        3.070766             0.000000                0.0   \n",
              "1       1.189500        2.117310             0.571429                0.0   \n",
              "2       1.100562        1.936989             0.631579                0.0   \n",
              "3       1.100562        1.936989             0.631579                0.0   \n",
              "4       1.100562        1.936989             0.631579                0.0   \n",
              "\n",
              "   Total_PL  AccountDown_Ratio  PL_5000_DD_25  \n",
              "0      -1.0                0.0              0  \n",
              "1      -1.0                0.0              0  \n",
              "2      -1.0                0.0              0  \n",
              "3      -1.0                0.0              0  \n",
              "4      -1.0                0.0              0  \n",
              "\n",
              "[5 rows x 36 columns]"
            ],
            "text/html": "<div>\n<style scoped>\n    .dataframe tbody tr th:only-of-type {\n        vertical-align: middle;\n    }\n\n    .dataframe tbody tr th {\n        vertical-align: top;\n    }\n\n    .dataframe thead th {\n        text-align: right;\n    }\n</style>\n<table border=\"1\" class=\"dataframe\">\n  <thead>\n    <tr style=\"text-align: right;\">\n      <th></th>\n      <th>User_ID</th>\n      <th>TIME</th>\n      <th>BALANCE_PREV</th>\n      <th>BALANCE</th>\n      <th>DEPOSIT</th>\n      <th>CREDIT</th>\n      <th>EQUITY</th>\n      <th>Close_PL</th>\n      <th>Open_PL</th>\n      <th>MARGIN</th>\n      <th>...</th>\n      <th>Ratio4</th>\n      <th>Ratio5</th>\n      <th>Ratio6</th>\n      <th>Account_Score</th>\n      <th>Combined_Score</th>\n      <th>Profit_Trades_Ratio</th>\n      <th>Long_Trades_Ratio</th>\n      <th>Total_PL</th>\n      <th>AccountDown_Ratio</th>\n      <th>PL_5000_DD_25</th>\n    </tr>\n  </thead>\n  <tbody>\n    <tr>\n      <th>0</th>\n      <td>200000062</td>\n      <td>2021-02-24 21:59:59</td>\n      <td>2.76</td>\n      <td>74.58</td>\n      <td>300.0</td>\n      <td>0</td>\n      <td>74.58</td>\n      <td>-228.18</td>\n      <td>0.00</td>\n      <td>0.000000</td>\n      <td>...</td>\n      <td>2.02</td>\n      <td>1.09</td>\n      <td>0.36</td>\n      <td>1.520181</td>\n      <td>3.070766</td>\n      <td>0.000000</td>\n      <td>0.0</td>\n      <td>-1.0</td>\n      <td>0.0</td>\n      <td>0</td>\n    </tr>\n    <tr>\n      <th>1</th>\n      <td>200000062</td>\n      <td>2021-02-25 21:59:59</td>\n      <td>74.58</td>\n      <td>247.11</td>\n      <td>0.0</td>\n      <td>0</td>\n      <td>301.76</td>\n      <td>172.53</td>\n      <td>54.65</td>\n      <td>147.105473</td>\n      <td>...</td>\n      <td>1.78</td>\n      <td>1.08</td>\n      <td>0.36</td>\n      <td>1.189500</td>\n      <td>2.117310</td>\n      <td>0.571429</td>\n      <td>0.0</td>\n      <td>-1.0</td>\n      <td>0.0</td>\n      <td>0</td>\n    </tr>\n    <tr>\n      <th>2</th>\n      <td>200000062</td>\n      <td>2021-02-26 21:59:59</td>\n      <td>247.11</td>\n      <td>269.56</td>\n      <td>0.0</td>\n      <td>0</td>\n      <td>373.43</td>\n      <td>22.45</td>\n      <td>103.87</td>\n      <td>197.133384</td>\n      <td>...</td>\n      <td>1.76</td>\n      <td>1.08</td>\n      <td>0.36</td>\n      <td>1.100562</td>\n      <td>1.936989</td>\n      <td>0.631579</td>\n      <td>0.0</td>\n      <td>-1.0</td>\n      <td>0.0</td>\n      <td>0</td>\n    </tr>\n    <tr>\n      <th>3</th>\n      <td>200000062</td>\n      <td>2021-02-27 21:59:59</td>\n      <td>269.56</td>\n      <td>269.56</td>\n      <td>0.0</td>\n      <td>0</td>\n      <td>373.43</td>\n      <td>0.00</td>\n      <td>103.87</td>\n      <td>197.133384</td>\n      <td>...</td>\n      <td>1.76</td>\n      <td>1.08</td>\n      <td>0.36</td>\n      <td>1.100562</td>\n      <td>1.936989</td>\n      <td>0.631579</td>\n      <td>0.0</td>\n      <td>-1.0</td>\n      <td>0.0</td>\n      <td>0</td>\n    </tr>\n    <tr>\n      <th>4</th>\n      <td>200000062</td>\n      <td>2021-02-28 21:59:59</td>\n      <td>269.56</td>\n      <td>269.56</td>\n      <td>0.0</td>\n      <td>0</td>\n      <td>373.43</td>\n      <td>0.00</td>\n      <td>103.87</td>\n      <td>197.133384</td>\n      <td>...</td>\n      <td>1.76</td>\n      <td>1.08</td>\n      <td>0.36</td>\n      <td>1.100562</td>\n      <td>1.936989</td>\n      <td>0.631579</td>\n      <td>0.0</td>\n      <td>-1.0</td>\n      <td>0.0</td>\n      <td>0</td>\n    </tr>\n  </tbody>\n</table>\n<p>5 rows × 36 columns</p>\n</div>"
          },
          "metadata": {},
          "execution_count": 3
        }
      ]
    },
    {
      "cell_type": "code",
      "metadata": {
        "colab": {
          "base_uri": "https://localhost:8080/",
          "height": 162
        },
        "id": "l62SckkFBhVP",
        "outputId": "7ccf58b4-489e-411c-fd0c-3f25c1d0ac0f"
      },
      "source": [
        "data.groupby(['PL_5000_DD_25']).count()"
      ],
      "execution_count": 4,
      "outputs": [
        {
          "output_type": "execute_result",
          "data": {
            "text/plain": [
              "               User_ID   TIME  BALANCE_PREV  BALANCE  DEPOSIT  CREDIT  EQUITY  \\\n",
              "PL_5000_DD_25                                                                   \n",
              "0                59881  59881         59881    59881    59881   59881   59881   \n",
              "1                  446    446           446      446      446     446     446   \n",
              "\n",
              "               Close_PL  Open_PL  MARGIN  ...  Ratio3  Ratio4  Ratio5  Ratio6  \\\n",
              "PL_5000_DD_25                             ...                                   \n",
              "0                 59881    59881   59881  ...   59881   59881   59881   59881   \n",
              "1                   446      446     446  ...     446     446     446     446   \n",
              "\n",
              "               Account_Score  Combined_Score  Profit_Trades_Ratio  \\\n",
              "PL_5000_DD_25                                                       \n",
              "0                      59881           59881                59881   \n",
              "1                        446             446                  446   \n",
              "\n",
              "               Long_Trades_Ratio  Total_PL  AccountDown_Ratio  \n",
              "PL_5000_DD_25                                                  \n",
              "0                          59881     59881              59881  \n",
              "1                            446       446                446  \n",
              "\n",
              "[2 rows x 35 columns]"
            ],
            "text/html": "<div>\n<style scoped>\n    .dataframe tbody tr th:only-of-type {\n        vertical-align: middle;\n    }\n\n    .dataframe tbody tr th {\n        vertical-align: top;\n    }\n\n    .dataframe thead th {\n        text-align: right;\n    }\n</style>\n<table border=\"1\" class=\"dataframe\">\n  <thead>\n    <tr style=\"text-align: right;\">\n      <th></th>\n      <th>User_ID</th>\n      <th>TIME</th>\n      <th>BALANCE_PREV</th>\n      <th>BALANCE</th>\n      <th>DEPOSIT</th>\n      <th>CREDIT</th>\n      <th>EQUITY</th>\n      <th>Close_PL</th>\n      <th>Open_PL</th>\n      <th>MARGIN</th>\n      <th>...</th>\n      <th>Ratio3</th>\n      <th>Ratio4</th>\n      <th>Ratio5</th>\n      <th>Ratio6</th>\n      <th>Account_Score</th>\n      <th>Combined_Score</th>\n      <th>Profit_Trades_Ratio</th>\n      <th>Long_Trades_Ratio</th>\n      <th>Total_PL</th>\n      <th>AccountDown_Ratio</th>\n    </tr>\n    <tr>\n      <th>PL_5000_DD_25</th>\n      <th></th>\n      <th></th>\n      <th></th>\n      <th></th>\n      <th></th>\n      <th></th>\n      <th></th>\n      <th></th>\n      <th></th>\n      <th></th>\n      <th></th>\n      <th></th>\n      <th></th>\n      <th></th>\n      <th></th>\n      <th></th>\n      <th></th>\n      <th></th>\n      <th></th>\n      <th></th>\n      <th></th>\n    </tr>\n  </thead>\n  <tbody>\n    <tr>\n      <th>0</th>\n      <td>59881</td>\n      <td>59881</td>\n      <td>59881</td>\n      <td>59881</td>\n      <td>59881</td>\n      <td>59881</td>\n      <td>59881</td>\n      <td>59881</td>\n      <td>59881</td>\n      <td>59881</td>\n      <td>...</td>\n      <td>59881</td>\n      <td>59881</td>\n      <td>59881</td>\n      <td>59881</td>\n      <td>59881</td>\n      <td>59881</td>\n      <td>59881</td>\n      <td>59881</td>\n      <td>59881</td>\n      <td>59881</td>\n    </tr>\n    <tr>\n      <th>1</th>\n      <td>446</td>\n      <td>446</td>\n      <td>446</td>\n      <td>446</td>\n      <td>446</td>\n      <td>446</td>\n      <td>446</td>\n      <td>446</td>\n      <td>446</td>\n      <td>446</td>\n      <td>...</td>\n      <td>446</td>\n      <td>446</td>\n      <td>446</td>\n      <td>446</td>\n      <td>446</td>\n      <td>446</td>\n      <td>446</td>\n      <td>446</td>\n      <td>446</td>\n      <td>446</td>\n    </tr>\n  </tbody>\n</table>\n<p>2 rows × 35 columns</p>\n</div>"
          },
          "metadata": {},
          "execution_count": 4
        }
      ]
    },
    {
      "cell_type": "code",
      "metadata": {
        "id": "bcO5n4QbBm3B"
      },
      "source": [
        "data = data.drop(['User_ID', 'TIME', 'BALANCE_PREV', 'BALANCE', 'DEPOSIT', 'CREDIT', 'Close_PL', 'Open_PL', 'MARGIN', 'MARGIN_FREE', 'Sharpe_Ratio_By_Ticket_1W', 'Sharpe_Ratio_By_Ticket_2W', 'Sharpe_Ratio_By_Ticket_1M','Number_of_Ticket', 'Profit_trades', 'Loss_trades', 'Long_trades', 'Short_trades', 'Total_PL', 'AccountDown_Ratio'], axis=1)"
      ],
      "execution_count": 5,
      "outputs": []
    },
    {
      "cell_type": "code",
      "metadata": {
        "colab": {
          "base_uri": "https://localhost:8080/",
          "height": 224
        },
        "id": "5O38Cru3S1-q",
        "outputId": "815c94cb-5d4f-4852-986f-d25cb0ffbf94"
      },
      "source": [
        "data.head()"
      ],
      "execution_count": 6,
      "outputs": [
        {
          "output_type": "execute_result",
          "data": {
            "text/plain": [
              "   EQUITY  Margin_Ratio  Sharpe_Ratio_By_Balance_1W  \\\n",
              "0   74.58      0.000000                       -0.38   \n",
              "1  301.76      0.487492                       -0.37   \n",
              "2  373.43      0.527899                       -0.37   \n",
              "3  373.43      0.527899                       -0.37   \n",
              "4  373.43      0.527899                       -0.37   \n",
              "\n",
              "   Sharpe_Ratio_By_Balance_2W  Sharpe_Ratio_By_Balance_1M  Ratio1  Ratio2  \\\n",
              "0                       -0.27                       -0.18    1.17    0.71   \n",
              "1                       -0.26                       -0.18    1.00    0.65   \n",
              "2                       -0.26                       -0.18    0.97    0.62   \n",
              "3                       -0.26                       -0.18    0.97    0.62   \n",
              "4                       -0.26                       -0.18    0.97    0.62   \n",
              "\n",
              "   Ratio3  Ratio4  Ratio5  Ratio6  Account_Score  Combined_Score  \\\n",
              "0    1.83    2.02    1.09    0.36       1.520181        3.070766   \n",
              "1    1.83    1.78    1.08    0.36       1.189500        2.117310   \n",
              "2    1.83    1.76    1.08    0.36       1.100562        1.936989   \n",
              "3    1.83    1.76    1.08    0.36       1.100562        1.936989   \n",
              "4    1.83    1.76    1.08    0.36       1.100562        1.936989   \n",
              "\n",
              "   Profit_Trades_Ratio  Long_Trades_Ratio  PL_5000_DD_25  \n",
              "0             0.000000                0.0              0  \n",
              "1             0.571429                0.0              0  \n",
              "2             0.631579                0.0              0  \n",
              "3             0.631579                0.0              0  \n",
              "4             0.631579                0.0              0  "
            ],
            "text/html": "<div>\n<style scoped>\n    .dataframe tbody tr th:only-of-type {\n        vertical-align: middle;\n    }\n\n    .dataframe tbody tr th {\n        vertical-align: top;\n    }\n\n    .dataframe thead th {\n        text-align: right;\n    }\n</style>\n<table border=\"1\" class=\"dataframe\">\n  <thead>\n    <tr style=\"text-align: right;\">\n      <th></th>\n      <th>EQUITY</th>\n      <th>Margin_Ratio</th>\n      <th>Sharpe_Ratio_By_Balance_1W</th>\n      <th>Sharpe_Ratio_By_Balance_2W</th>\n      <th>Sharpe_Ratio_By_Balance_1M</th>\n      <th>Ratio1</th>\n      <th>Ratio2</th>\n      <th>Ratio3</th>\n      <th>Ratio4</th>\n      <th>Ratio5</th>\n      <th>Ratio6</th>\n      <th>Account_Score</th>\n      <th>Combined_Score</th>\n      <th>Profit_Trades_Ratio</th>\n      <th>Long_Trades_Ratio</th>\n      <th>PL_5000_DD_25</th>\n    </tr>\n  </thead>\n  <tbody>\n    <tr>\n      <th>0</th>\n      <td>74.58</td>\n      <td>0.000000</td>\n      <td>-0.38</td>\n      <td>-0.27</td>\n      <td>-0.18</td>\n      <td>1.17</td>\n      <td>0.71</td>\n      <td>1.83</td>\n      <td>2.02</td>\n      <td>1.09</td>\n      <td>0.36</td>\n      <td>1.520181</td>\n      <td>3.070766</td>\n      <td>0.000000</td>\n      <td>0.0</td>\n      <td>0</td>\n    </tr>\n    <tr>\n      <th>1</th>\n      <td>301.76</td>\n      <td>0.487492</td>\n      <td>-0.37</td>\n      <td>-0.26</td>\n      <td>-0.18</td>\n      <td>1.00</td>\n      <td>0.65</td>\n      <td>1.83</td>\n      <td>1.78</td>\n      <td>1.08</td>\n      <td>0.36</td>\n      <td>1.189500</td>\n      <td>2.117310</td>\n      <td>0.571429</td>\n      <td>0.0</td>\n      <td>0</td>\n    </tr>\n    <tr>\n      <th>2</th>\n      <td>373.43</td>\n      <td>0.527899</td>\n      <td>-0.37</td>\n      <td>-0.26</td>\n      <td>-0.18</td>\n      <td>0.97</td>\n      <td>0.62</td>\n      <td>1.83</td>\n      <td>1.76</td>\n      <td>1.08</td>\n      <td>0.36</td>\n      <td>1.100562</td>\n      <td>1.936989</td>\n      <td>0.631579</td>\n      <td>0.0</td>\n      <td>0</td>\n    </tr>\n    <tr>\n      <th>3</th>\n      <td>373.43</td>\n      <td>0.527899</td>\n      <td>-0.37</td>\n      <td>-0.26</td>\n      <td>-0.18</td>\n      <td>0.97</td>\n      <td>0.62</td>\n      <td>1.83</td>\n      <td>1.76</td>\n      <td>1.08</td>\n      <td>0.36</td>\n      <td>1.100562</td>\n      <td>1.936989</td>\n      <td>0.631579</td>\n      <td>0.0</td>\n      <td>0</td>\n    </tr>\n    <tr>\n      <th>4</th>\n      <td>373.43</td>\n      <td>0.527899</td>\n      <td>-0.37</td>\n      <td>-0.26</td>\n      <td>-0.18</td>\n      <td>0.97</td>\n      <td>0.62</td>\n      <td>1.83</td>\n      <td>1.76</td>\n      <td>1.08</td>\n      <td>0.36</td>\n      <td>1.100562</td>\n      <td>1.936989</td>\n      <td>0.631579</td>\n      <td>0.0</td>\n      <td>0</td>\n    </tr>\n  </tbody>\n</table>\n</div>"
          },
          "metadata": {},
          "execution_count": 6
        }
      ]
    },
    {
      "cell_type": "code",
      "metadata": {
        "id": "iylbM_tHSgff"
      },
      "source": [
        "data['EQUITY'] = StandardScaler().fit_transform(data['EQUITY'].values.reshape(-1, 1))\n",
        "data['Margin_Ratio'] = StandardScaler().fit_transform(data['Margin_Ratio'].values.reshape(-1, 1))\n",
        "data['Sharpe_Ratio_By_Balance_1W'] = StandardScaler().fit_transform(data['Sharpe_Ratio_By_Balance_1W'].values.reshape(-1, 1))\n",
        "#data['Sharpe_Ratio_By_Ticket_1W'] = StandardScaler().fit_transform(data['Sharpe_Ratio_By_Ticket_1W'].values.reshape(-1, 1))\n",
        "data['Sharpe_Ratio_By_Balance_2W'] = StandardScaler().fit_transform(data['Sharpe_Ratio_By_Balance_2W'].values.reshape(-1, 1))\n",
        "#data['Sharpe_Ratio_By_Ticket_2W'] = StandardScaler().fit_transform(data['Sharpe_Ratio_By_Ticket_2W'].values.reshape(-1, 1))\n",
        "data['Sharpe_Ratio_By_Balance_1M'] = StandardScaler().fit_transform(data['Sharpe_Ratio_By_Balance_1M'].values.reshape(-1, 1))\n",
        "#data['Sharpe_Ratio_By_Ticket_1M'] = StandardScaler().fit_transform(data['Sharpe_Ratio_By_Ticket_1M'].values.reshape(-1, 1))\n",
        "data['Ratio1'] = StandardScaler().fit_transform(data['Ratio1'].values.reshape(-1, 1))\n",
        "data['Ratio2'] = StandardScaler().fit_transform(data['Ratio2'].values.reshape(-1, 1))\n",
        "data['Ratio3'] = StandardScaler().fit_transform(data['Ratio3'].values.reshape(-1, 1))\n",
        "data['Ratio4'] = StandardScaler().fit_transform(data['Ratio4'].values.reshape(-1, 1))\n",
        "data['Ratio5'] = StandardScaler().fit_transform(data['Ratio5'].values.reshape(-1, 1))\n",
        "data['Ratio6'] = StandardScaler().fit_transform(data['Ratio6'].values.reshape(-1, 1))\n",
        "data['Account_Score'] = StandardScaler().fit_transform(data['Account_Score'].values.reshape(-1, 1))\n",
        "data['Combined_Score'] = StandardScaler().fit_transform(data['Combined_Score'].values.reshape(-1, 1))\n",
        "data['Profit_Trades_Ratio'] = StandardScaler().fit_transform(data['Profit_Trades_Ratio'].values.reshape(-1, 1))\n",
        "data['Long_Trades_Ratio'] = StandardScaler().fit_transform(data['Long_Trades_Ratio'].values.reshape(-1, 1))"
      ],
      "execution_count": 7,
      "outputs": []
    },
    {
      "cell_type": "code",
      "metadata": {
        "colab": {
          "base_uri": "https://localhost:8080/",
          "height": 224
        },
        "id": "FUe77p8tFQD7",
        "outputId": "ada551dd-d5ea-4451-d77c-6f04946f5170"
      },
      "source": [
        "data.head()"
      ],
      "execution_count": 8,
      "outputs": [
        {
          "output_type": "execute_result",
          "data": {
            "text/plain": [
              "     EQUITY  Margin_Ratio  Sharpe_Ratio_By_Balance_1W  \\\n",
              "0 -0.137196     -0.480438                   -0.353187   \n",
              "1 -0.133993      2.445899                   -0.344965   \n",
              "2 -0.132982      2.688459                   -0.344965   \n",
              "3 -0.132982      2.688459                   -0.344965   \n",
              "4 -0.132982      2.688459                   -0.344965   \n",
              "\n",
              "   Sharpe_Ratio_By_Balance_2W  Sharpe_Ratio_By_Balance_1M    Ratio1    Ratio2  \\\n",
              "0                   -0.534408                   -0.368863 -0.023784 -0.102146   \n",
              "1                   -0.516419                   -0.368863 -0.023860 -0.137638   \n",
              "2                   -0.516419                   -0.368863 -0.023873 -0.155384   \n",
              "3                   -0.516419                   -0.368863 -0.023873 -0.155384   \n",
              "4                   -0.516419                   -0.368863 -0.023873 -0.155384   \n",
              "\n",
              "     Ratio3    Ratio4    Ratio5    Ratio6  Account_Score  Combined_Score  \\\n",
              "0 -0.037712 -0.025430 -0.024151 -0.022959      -0.014702       -0.014105   \n",
              "1 -0.037712 -0.028578 -0.024154 -0.022959      -0.014702       -0.014105   \n",
              "2 -0.037712 -0.028840 -0.024154 -0.022959      -0.014702       -0.014105   \n",
              "3 -0.037712 -0.028840 -0.024154 -0.022959      -0.014702       -0.014105   \n",
              "4 -0.037712 -0.028840 -0.024154 -0.022959      -0.014702       -0.014105   \n",
              "\n",
              "   Profit_Trades_Ratio  Long_Trades_Ratio  PL_5000_DD_25  \n",
              "0            -2.094777          -1.769426              0  \n",
              "1             0.073836          -1.769426              0  \n",
              "2             0.302111          -1.769426              0  \n",
              "3             0.302111          -1.769426              0  \n",
              "4             0.302111          -1.769426              0  "
            ],
            "text/html": "<div>\n<style scoped>\n    .dataframe tbody tr th:only-of-type {\n        vertical-align: middle;\n    }\n\n    .dataframe tbody tr th {\n        vertical-align: top;\n    }\n\n    .dataframe thead th {\n        text-align: right;\n    }\n</style>\n<table border=\"1\" class=\"dataframe\">\n  <thead>\n    <tr style=\"text-align: right;\">\n      <th></th>\n      <th>EQUITY</th>\n      <th>Margin_Ratio</th>\n      <th>Sharpe_Ratio_By_Balance_1W</th>\n      <th>Sharpe_Ratio_By_Balance_2W</th>\n      <th>Sharpe_Ratio_By_Balance_1M</th>\n      <th>Ratio1</th>\n      <th>Ratio2</th>\n      <th>Ratio3</th>\n      <th>Ratio4</th>\n      <th>Ratio5</th>\n      <th>Ratio6</th>\n      <th>Account_Score</th>\n      <th>Combined_Score</th>\n      <th>Profit_Trades_Ratio</th>\n      <th>Long_Trades_Ratio</th>\n      <th>PL_5000_DD_25</th>\n    </tr>\n  </thead>\n  <tbody>\n    <tr>\n      <th>0</th>\n      <td>-0.137196</td>\n      <td>-0.480438</td>\n      <td>-0.353187</td>\n      <td>-0.534408</td>\n      <td>-0.368863</td>\n      <td>-0.023784</td>\n      <td>-0.102146</td>\n      <td>-0.037712</td>\n      <td>-0.025430</td>\n      <td>-0.024151</td>\n      <td>-0.022959</td>\n      <td>-0.014702</td>\n      <td>-0.014105</td>\n      <td>-2.094777</td>\n      <td>-1.769426</td>\n      <td>0</td>\n    </tr>\n    <tr>\n      <th>1</th>\n      <td>-0.133993</td>\n      <td>2.445899</td>\n      <td>-0.344965</td>\n      <td>-0.516419</td>\n      <td>-0.368863</td>\n      <td>-0.023860</td>\n      <td>-0.137638</td>\n      <td>-0.037712</td>\n      <td>-0.028578</td>\n      <td>-0.024154</td>\n      <td>-0.022959</td>\n      <td>-0.014702</td>\n      <td>-0.014105</td>\n      <td>0.073836</td>\n      <td>-1.769426</td>\n      <td>0</td>\n    </tr>\n    <tr>\n      <th>2</th>\n      <td>-0.132982</td>\n      <td>2.688459</td>\n      <td>-0.344965</td>\n      <td>-0.516419</td>\n      <td>-0.368863</td>\n      <td>-0.023873</td>\n      <td>-0.155384</td>\n      <td>-0.037712</td>\n      <td>-0.028840</td>\n      <td>-0.024154</td>\n      <td>-0.022959</td>\n      <td>-0.014702</td>\n      <td>-0.014105</td>\n      <td>0.302111</td>\n      <td>-1.769426</td>\n      <td>0</td>\n    </tr>\n    <tr>\n      <th>3</th>\n      <td>-0.132982</td>\n      <td>2.688459</td>\n      <td>-0.344965</td>\n      <td>-0.516419</td>\n      <td>-0.368863</td>\n      <td>-0.023873</td>\n      <td>-0.155384</td>\n      <td>-0.037712</td>\n      <td>-0.028840</td>\n      <td>-0.024154</td>\n      <td>-0.022959</td>\n      <td>-0.014702</td>\n      <td>-0.014105</td>\n      <td>0.302111</td>\n      <td>-1.769426</td>\n      <td>0</td>\n    </tr>\n    <tr>\n      <th>4</th>\n      <td>-0.132982</td>\n      <td>2.688459</td>\n      <td>-0.344965</td>\n      <td>-0.516419</td>\n      <td>-0.368863</td>\n      <td>-0.023873</td>\n      <td>-0.155384</td>\n      <td>-0.037712</td>\n      <td>-0.028840</td>\n      <td>-0.024154</td>\n      <td>-0.022959</td>\n      <td>-0.014702</td>\n      <td>-0.014105</td>\n      <td>0.302111</td>\n      <td>-1.769426</td>\n      <td>0</td>\n    </tr>\n  </tbody>\n</table>\n</div>"
          },
          "metadata": {},
          "execution_count": 8
        }
      ]
    },
    {
      "cell_type": "code",
      "execution_count": 10,
      "metadata": {},
      "outputs": [],
      "source": [
        "data = np.asarray(data)"
      ]
    },
    {
      "cell_type": "code",
      "execution_count": 16,
      "metadata": {},
      "outputs": [
        {
          "output_type": "stream",
          "name": "stdout",
          "text": [
            "[0. 0. 0. ... 1. 1. 1.]\n"
          ]
        }
      ],
      "source": [
        "data = data[np.argsort(data[:, -1])]\n",
        "print(data[:, -1].T)"
      ]
    },
    {
      "cell_type": "code",
      "execution_count": 17,
      "metadata": {},
      "outputs": [
        {
          "output_type": "stream",
          "name": "stdout",
          "text": [
            "59881\n"
          ]
        }
      ],
      "source": [
        "divide = 0\n",
        "for n in range(len(data)):\n",
        "    if data[n][-1] == 1:\n",
        "        divide = n\n",
        "        break\n",
        "print(divide)"
      ]
    },
    {
      "cell_type": "code",
      "execution_count": 18,
      "metadata": {},
      "outputs": [],
      "source": [
        "false_data = data[:divide]\n",
        "true_data = data[divide:]\n",
        "np.save('data_false.npy', false_data)\n",
        "np.save('data_true.npy', true_data)"
      ]
    },
    {
      "cell_type": "code",
      "metadata": {
        "colab": {
          "base_uri": "https://localhost:8080/"
        },
        "id": "h1nIeLUmFS4N",
        "outputId": "3276a323-4bc3-4cdf-d2ff-ba646826a981"
      },
      "source": [
        "X_train, X_test = train_test_split(data, test_size=0.2, random_state=0)\n",
        "X_train = X_train.drop(['PL_5000_DD_25'], axis=1)\n",
        "y_test = X_test['PL_5000_DD_25']\n",
        "X_test = X_test.drop(['PL_5000_DD_25'], axis=1)\n",
        "X_train = X_train.values\n",
        "X_test = X_test.values\n",
        "X_train.shape"
      ],
      "execution_count": 25,
      "outputs": [
        {
          "output_type": "execute_result",
          "data": {
            "text/plain": [
              "(48261, 15)"
            ]
          },
          "metadata": {},
          "execution_count": 25
        }
      ]
    },
    {
      "cell_type": "code",
      "metadata": {
        "colab": {
          "base_uri": "https://localhost:8080/"
        },
        "id": "bD1vwd9mTeTR",
        "outputId": "ba47706b-285d-4ab0-f66f-f4f14d23d903"
      },
      "source": [
        "input_dim = X_train.shape[1]\n",
        "encoding_dim = 8\n",
        "\n",
        "model = Sequential()\n",
        "model.add(Dense(encoding_dim, activation=\"tanh\", input_shape=(input_dim,)))\n",
        "model.add(Dense(int(encoding_dim / 2), activation=\"relu\"))\n",
        "model.add(Dense(int(encoding_dim / 2), activation='tanh'))\n",
        "model.add(Dense(input_dim, activation='relu'))\n",
        "\n",
        "model.summary()"
      ],
      "execution_count": 26,
      "outputs": [
        {
          "output_type": "stream",
          "name": "stdout",
          "text": [
            "WARNING:tensorflow:From C:\\Users\\gzfox\\Anaconda3\\lib\\site-packages\\tensorflow\\python\\ops\\init_ops.py:1251: calling VarianceScaling.__init__ (from tensorflow.python.ops.init_ops) with dtype is deprecated and will be removed in a future version.\n",
            "Instructions for updating:\n",
            "Call initializer instance with the dtype argument instead of passing it to the constructor\n",
            "Model: \"sequential\"\n",
            "_________________________________________________________________\n",
            "Layer (type)                 Output Shape              Param #   \n",
            "=================================================================\n",
            "dense (Dense)                (None, 8)                 128       \n",
            "_________________________________________________________________\n",
            "dense_1 (Dense)              (None, 4)                 36        \n",
            "_________________________________________________________________\n",
            "dense_2 (Dense)              (None, 4)                 20        \n",
            "_________________________________________________________________\n",
            "dense_3 (Dense)              (None, 15)                75        \n",
            "=================================================================\n",
            "Total params: 259\n",
            "Trainable params: 259\n",
            "Non-trainable params: 0\n",
            "_________________________________________________________________\n"
          ]
        }
      ]
    },
    {
      "cell_type": "code",
      "metadata": {
        "colab": {
          "base_uri": "https://localhost:8080/"
        },
        "id": "UWQGSn-QTscG",
        "outputId": "03a3aa9f-6620-4655-fdcd-6479e45d76d9"
      },
      "source": [
        "nb_epoch = 40\n",
        "batch_size = 32\n",
        "\n",
        "model.compile(optimizer='adam', loss='mean_squared_error', metrics=['acc'])\n",
        "\n",
        "history = model.fit(X_train, X_train,\n",
        "                    epochs=nb_epoch,\n",
        "                    batch_size=batch_size,\n",
        "                    validation_data=(X_test, X_test),\n",
        "                    verbose=1)\n",
        "\n",
        "autoencoder = model"
      ],
      "execution_count": 27,
      "outputs": [
        {
          "output_type": "stream",
          "name": "stdout",
          "text": [
            "Train on 48261 samples, validate on 12066 samples\n",
            "Epoch 1/40\n",
            "48261/48261 [==============================] - 1s 21us/sample - loss: 0.9279 - acc: 0.5051 - val_loss: 0.7196 - val_acc: 0.6435\n",
            "Epoch 2/40\n",
            "48261/48261 [==============================] - 1s 19us/sample - loss: 0.8823 - acc: 0.6573 - val_loss: 0.6979 - val_acc: 0.6677\n",
            "Epoch 3/40\n",
            "48261/48261 [==============================] - 1s 19us/sample - loss: 0.8578 - acc: 0.6924 - val_loss: 0.6706 - val_acc: 0.7244\n",
            "Epoch 4/40\n",
            "48261/48261 [==============================] - 1s 18us/sample - loss: 0.8344 - acc: 0.7349 - val_loss: 0.6532 - val_acc: 0.7461\n",
            "Epoch 5/40\n",
            "48261/48261 [==============================] - 1s 18us/sample - loss: 0.8192 - acc: 0.7447 - val_loss: 0.6429 - val_acc: 0.7292\n",
            "Epoch 6/40\n",
            "48261/48261 [==============================] - 1s 19us/sample - loss: 0.8093 - acc: 0.7448 - val_loss: 0.6350 - val_acc: 0.7508\n",
            "Epoch 7/40\n",
            "48261/48261 [==============================] - 1s 21us/sample - loss: 0.8018 - acc: 0.7455 - val_loss: 0.6285 - val_acc: 0.7432\n",
            "Epoch 8/40\n",
            "48261/48261 [==============================] - 1s 20us/sample - loss: 0.7948 - acc: 0.7459 - val_loss: 0.6224 - val_acc: 0.7447\n",
            "Epoch 9/40\n",
            "48261/48261 [==============================] - 1s 19us/sample - loss: 0.7876 - acc: 0.7459 - val_loss: 0.6168 - val_acc: 0.7437\n",
            "Epoch 10/40\n",
            "48261/48261 [==============================] - 1s 19us/sample - loss: 0.7811 - acc: 0.7464 - val_loss: 0.6133 - val_acc: 0.7317\n",
            "Epoch 11/40\n",
            "48261/48261 [==============================] - 1s 19us/sample - loss: 0.7753 - acc: 0.7454 - val_loss: 0.6074 - val_acc: 0.7468\n",
            "Epoch 12/40\n",
            "48261/48261 [==============================] - 1s 19us/sample - loss: 0.7702 - acc: 0.7471 - val_loss: 0.6035 - val_acc: 0.7481\n",
            "Epoch 13/40\n",
            "48261/48261 [==============================] - 1s 19us/sample - loss: 0.7650 - acc: 0.7405 - val_loss: 0.6013 - val_acc: 0.7427\n",
            "Epoch 14/40\n",
            "48261/48261 [==============================] - 1s 19us/sample - loss: 0.7606 - acc: 0.7435 - val_loss: 0.5968 - val_acc: 0.7522\n",
            "Epoch 15/40\n",
            "48261/48261 [==============================] - 1s 19us/sample - loss: 0.7552 - acc: 0.7462 - val_loss: 0.5921 - val_acc: 0.7412\n",
            "Epoch 16/40\n",
            "48261/48261 [==============================] - 1s 19us/sample - loss: 0.7501 - acc: 0.7476 - val_loss: 0.5879 - val_acc: 0.7441\n",
            "Epoch 17/40\n",
            "48261/48261 [==============================] - 1s 19us/sample - loss: 0.7477 - acc: 0.7444 - val_loss: 0.5859 - val_acc: 0.7343\n",
            "Epoch 18/40\n",
            "48261/48261 [==============================] - 1s 19us/sample - loss: 0.7421 - acc: 0.7437 - val_loss: 0.5815 - val_acc: 0.7406\n",
            "Epoch 19/40\n",
            "48261/48261 [==============================] - 1s 19us/sample - loss: 0.7372 - acc: 0.7441 - val_loss: 0.5781 - val_acc: 0.7234\n",
            "Epoch 20/40\n",
            "48261/48261 [==============================] - 1s 18us/sample - loss: 0.7340 - acc: 0.7441 - val_loss: 0.5745 - val_acc: 0.7476\n",
            "Epoch 21/40\n",
            "48261/48261 [==============================] - 1s 18us/sample - loss: 0.7288 - acc: 0.7459 - val_loss: 0.5711 - val_acc: 0.7507\n",
            "Epoch 22/40\n",
            "48261/48261 [==============================] - 1s 19us/sample - loss: 0.7252 - acc: 0.7435 - val_loss: 0.5665 - val_acc: 0.7487\n",
            "Epoch 23/40\n",
            "48261/48261 [==============================] - 1s 19us/sample - loss: 0.7214 - acc: 0.7420 - val_loss: 0.5646 - val_acc: 0.7402\n",
            "Epoch 24/40\n",
            "48261/48261 [==============================] - 1s 19us/sample - loss: 0.7172 - acc: 0.7408 - val_loss: 0.5615 - val_acc: 0.7452\n",
            "Epoch 25/40\n",
            "48261/48261 [==============================] - 1s 18us/sample - loss: 0.7152 - acc: 0.7328 - val_loss: 0.5585 - val_acc: 0.7408\n",
            "Epoch 26/40\n",
            "48261/48261 [==============================] - 1s 18us/sample - loss: 0.7103 - acc: 0.7433 - val_loss: 0.5582 - val_acc: 0.7467\n",
            "Epoch 27/40\n",
            "48261/48261 [==============================] - 1s 18us/sample - loss: 0.7064 - acc: 0.7394 - val_loss: 0.5524 - val_acc: 0.7436\n",
            "Epoch 28/40\n",
            "48261/48261 [==============================] - 1s 18us/sample - loss: 0.7029 - acc: 0.7379 - val_loss: 0.5511 - val_acc: 0.7335\n",
            "Epoch 29/40\n",
            "48261/48261 [==============================] - 1s 18us/sample - loss: 0.6981 - acc: 0.7405 - val_loss: 0.5453 - val_acc: 0.7412\n",
            "Epoch 30/40\n",
            "48261/48261 [==============================] - 1s 18us/sample - loss: 0.6957 - acc: 0.7367 - val_loss: 0.5493 - val_acc: 0.7361\n",
            "Epoch 31/40\n",
            "48261/48261 [==============================] - 1s 18us/sample - loss: 0.6926 - acc: 0.7273 - val_loss: 0.5503 - val_acc: 0.7375\n",
            "Epoch 32/40\n",
            "48261/48261 [==============================] - 1s 18us/sample - loss: 0.6905 - acc: 0.7243 - val_loss: 0.5427 - val_acc: 0.7310\n",
            "Epoch 33/40\n",
            "48261/48261 [==============================] - 1s 18us/sample - loss: 0.6851 - acc: 0.7322 - val_loss: 0.5402 - val_acc: 0.7316\n",
            "Epoch 34/40\n",
            "48261/48261 [==============================] - 1s 18us/sample - loss: 0.6823 - acc: 0.7290 - val_loss: 0.5338 - val_acc: 0.7408\n",
            "Epoch 35/40\n",
            " 6496/48261 [===>..........................] - ETA: 0s - loss: 0.3856 - acc: 0.7418"
          ]
        },
        {
          "output_type": "error",
          "ename": "KeyboardInterrupt",
          "evalue": "",
          "traceback": [
            "\u001b[1;31m---------------------------------------------------------------------------\u001b[0m",
            "\u001b[1;31mKeyboardInterrupt\u001b[0m                         Traceback (most recent call last)",
            "\u001b[1;32m<ipython-input-27-512c47dfa8f3>\u001b[0m in \u001b[0;36m<module>\u001b[1;34m\u001b[0m\n\u001b[0;32m      8\u001b[0m                     \u001b[0mbatch_size\u001b[0m\u001b[1;33m=\u001b[0m\u001b[0mbatch_size\u001b[0m\u001b[1;33m,\u001b[0m\u001b[1;33m\u001b[0m\u001b[1;33m\u001b[0m\u001b[0m\n\u001b[0;32m      9\u001b[0m                     \u001b[0mvalidation_data\u001b[0m\u001b[1;33m=\u001b[0m\u001b[1;33m(\u001b[0m\u001b[0mX_test\u001b[0m\u001b[1;33m,\u001b[0m \u001b[0mX_test\u001b[0m\u001b[1;33m)\u001b[0m\u001b[1;33m,\u001b[0m\u001b[1;33m\u001b[0m\u001b[1;33m\u001b[0m\u001b[0m\n\u001b[1;32m---> 10\u001b[1;33m                     verbose=1)\n\u001b[0m\u001b[0;32m     11\u001b[0m \u001b[1;33m\u001b[0m\u001b[0m\n\u001b[0;32m     12\u001b[0m \u001b[0mautoencoder\u001b[0m \u001b[1;33m=\u001b[0m \u001b[0mmodel\u001b[0m\u001b[1;33m\u001b[0m\u001b[1;33m\u001b[0m\u001b[0m\n",
            "\u001b[1;32m~\\Anaconda3\\lib\\site-packages\\tensorflow\\python\\keras\\engine\\training.py\u001b[0m in \u001b[0;36mfit\u001b[1;34m(self, x, y, batch_size, epochs, verbose, callbacks, validation_split, validation_data, shuffle, class_weight, sample_weight, initial_epoch, steps_per_epoch, validation_steps, validation_freq, max_queue_size, workers, use_multiprocessing, **kwargs)\u001b[0m\n\u001b[0;32m    778\u001b[0m           \u001b[0mvalidation_steps\u001b[0m\u001b[1;33m=\u001b[0m\u001b[0mvalidation_steps\u001b[0m\u001b[1;33m,\u001b[0m\u001b[1;33m\u001b[0m\u001b[1;33m\u001b[0m\u001b[0m\n\u001b[0;32m    779\u001b[0m           \u001b[0mvalidation_freq\u001b[0m\u001b[1;33m=\u001b[0m\u001b[0mvalidation_freq\u001b[0m\u001b[1;33m,\u001b[0m\u001b[1;33m\u001b[0m\u001b[1;33m\u001b[0m\u001b[0m\n\u001b[1;32m--> 780\u001b[1;33m           steps_name='steps_per_epoch')\n\u001b[0m\u001b[0;32m    781\u001b[0m \u001b[1;33m\u001b[0m\u001b[0m\n\u001b[0;32m    782\u001b[0m   def evaluate(self,\n",
            "\u001b[1;32m~\\Anaconda3\\lib\\site-packages\\tensorflow\\python\\keras\\engine\\training_arrays.py\u001b[0m in \u001b[0;36mmodel_iteration\u001b[1;34m(model, inputs, targets, sample_weights, batch_size, epochs, verbose, callbacks, val_inputs, val_targets, val_sample_weights, shuffle, initial_epoch, steps_per_epoch, validation_steps, validation_freq, mode, validation_in_fit, prepared_feed_values_from_dataset, steps_name, **kwargs)\u001b[0m\n\u001b[0;32m    361\u001b[0m \u001b[1;33m\u001b[0m\u001b[0m\n\u001b[0;32m    362\u001b[0m         \u001b[1;31m# Get outputs.\u001b[0m\u001b[1;33m\u001b[0m\u001b[1;33m\u001b[0m\u001b[1;33m\u001b[0m\u001b[0m\n\u001b[1;32m--> 363\u001b[1;33m         \u001b[0mbatch_outs\u001b[0m \u001b[1;33m=\u001b[0m \u001b[0mf\u001b[0m\u001b[1;33m(\u001b[0m\u001b[0mins_batch\u001b[0m\u001b[1;33m)\u001b[0m\u001b[1;33m\u001b[0m\u001b[1;33m\u001b[0m\u001b[0m\n\u001b[0m\u001b[0;32m    364\u001b[0m         \u001b[1;32mif\u001b[0m \u001b[1;32mnot\u001b[0m \u001b[0misinstance\u001b[0m\u001b[1;33m(\u001b[0m\u001b[0mbatch_outs\u001b[0m\u001b[1;33m,\u001b[0m \u001b[0mlist\u001b[0m\u001b[1;33m)\u001b[0m\u001b[1;33m:\u001b[0m\u001b[1;33m\u001b[0m\u001b[1;33m\u001b[0m\u001b[0m\n\u001b[0;32m    365\u001b[0m           \u001b[0mbatch_outs\u001b[0m \u001b[1;33m=\u001b[0m \u001b[1;33m[\u001b[0m\u001b[0mbatch_outs\u001b[0m\u001b[1;33m]\u001b[0m\u001b[1;33m\u001b[0m\u001b[1;33m\u001b[0m\u001b[0m\n",
            "\u001b[1;32m~\\Anaconda3\\lib\\site-packages\\tensorflow\\python\\keras\\backend.py\u001b[0m in \u001b[0;36m__call__\u001b[1;34m(self, inputs)\u001b[0m\n\u001b[0;32m   3290\u001b[0m \u001b[1;33m\u001b[0m\u001b[0m\n\u001b[0;32m   3291\u001b[0m     fetched = self._callable_fn(*array_vals,\n\u001b[1;32m-> 3292\u001b[1;33m                                 run_metadata=self.run_metadata)\n\u001b[0m\u001b[0;32m   3293\u001b[0m     \u001b[0mself\u001b[0m\u001b[1;33m.\u001b[0m\u001b[0m_call_fetch_callbacks\u001b[0m\u001b[1;33m(\u001b[0m\u001b[0mfetched\u001b[0m\u001b[1;33m[\u001b[0m\u001b[1;33m-\u001b[0m\u001b[0mlen\u001b[0m\u001b[1;33m(\u001b[0m\u001b[0mself\u001b[0m\u001b[1;33m.\u001b[0m\u001b[0m_fetches\u001b[0m\u001b[1;33m)\u001b[0m\u001b[1;33m:\u001b[0m\u001b[1;33m]\u001b[0m\u001b[1;33m)\u001b[0m\u001b[1;33m\u001b[0m\u001b[1;33m\u001b[0m\u001b[0m\n\u001b[0;32m   3294\u001b[0m     output_structure = nest.pack_sequence_as(\n",
            "\u001b[1;32m~\\Anaconda3\\lib\\site-packages\\tensorflow\\python\\client\\session.py\u001b[0m in \u001b[0;36m__call__\u001b[1;34m(self, *args, **kwargs)\u001b[0m\n\u001b[0;32m   1456\u001b[0m         ret = tf_session.TF_SessionRunCallable(self._session._session,\n\u001b[0;32m   1457\u001b[0m                                                \u001b[0mself\u001b[0m\u001b[1;33m.\u001b[0m\u001b[0m_handle\u001b[0m\u001b[1;33m,\u001b[0m \u001b[0margs\u001b[0m\u001b[1;33m,\u001b[0m\u001b[1;33m\u001b[0m\u001b[1;33m\u001b[0m\u001b[0m\n\u001b[1;32m-> 1458\u001b[1;33m                                                run_metadata_ptr)\n\u001b[0m\u001b[0;32m   1459\u001b[0m         \u001b[1;32mif\u001b[0m \u001b[0mrun_metadata\u001b[0m\u001b[1;33m:\u001b[0m\u001b[1;33m\u001b[0m\u001b[1;33m\u001b[0m\u001b[0m\n\u001b[0;32m   1460\u001b[0m           \u001b[0mproto_data\u001b[0m \u001b[1;33m=\u001b[0m \u001b[0mtf_session\u001b[0m\u001b[1;33m.\u001b[0m\u001b[0mTF_GetBuffer\u001b[0m\u001b[1;33m(\u001b[0m\u001b[0mrun_metadata_ptr\u001b[0m\u001b[1;33m)\u001b[0m\u001b[1;33m\u001b[0m\u001b[1;33m\u001b[0m\u001b[0m\n",
            "\u001b[1;31mKeyboardInterrupt\u001b[0m: "
          ]
        }
      ]
    },
    {
      "cell_type": "code",
      "metadata": {
        "colab": {
          "base_uri": "https://localhost:8080/",
          "height": 295
        },
        "id": "uujO2bMoTxP6",
        "outputId": "f952d9e9-fbd6-4563-8a34-7d6e2456bdbe"
      },
      "source": [
        "# summarize history for accuracy\n",
        "plt.plot(history.history['acc'])\n",
        "plt.plot(history.history['val_acc'])\n",
        "plt.title('Model accuracy')\n",
        "plt.ylabel('Accuracy')\n",
        "plt.xlabel('Epoch')\n",
        "plt.legend(['Train', 'Test'], loc='upper left')\n",
        "plt.show()"
      ],
      "execution_count": null,
      "outputs": [
        {
          "output_type": "display_data",
          "data": {
            "image/png": "[encoded data removed]",
            "text/plain": [
              "<Figure size 432x288 with 1 Axes>"
            ]
          },
          "metadata": {
            "tags": [],
            "needs_background": "light"
          }
        }
      ]
    },
    {
      "cell_type": "code",
      "metadata": {
        "id": "5cPdoycjURR1"
      },
      "source": [
        "predictions = autoencoder.predict(X_test)\n",
        "mse = np.mean(np.power(X_test - predictions, 2), axis=1)\n",
        "error_df = pd.DataFrame({'reconstruction_error': mse, 'true_class': y_test})"
      ],
      "execution_count": null,
      "outputs": []
    },
    {
      "cell_type": "code",
      "metadata": {
        "colab": {
          "base_uri": "https://localhost:8080/",
          "height": 204
        },
        "id": "5LKGg3JRUdIu",
        "outputId": "d57e5b3f-bdb2-426d-8f5d-1cee8cc10529"
      },
      "source": [
        "error_df.head()"
      ],
      "execution_count": null,
      "outputs": [
        {
          "output_type": "execute_result",
          "data": {
            "text/html": [
              "<div>\n",
              "<style scoped>\n",
              "    .dataframe tbody tr th:only-of-type {\n",
              "        vertical-align: middle;\n",
              "    }\n",
              "\n",
              "    .dataframe tbody tr th {\n",
              "        vertical-align: top;\n",
              "    }\n",
              "\n",
              "    .dataframe thead th {\n",
              "        text-align: right;\n",
              "    }\n",
              "</style>\n",
              "<table border=\"1\" class=\"dataframe\">\n",
              "  <thead>\n",
              "    <tr style=\"text-align: right;\">\n",
              "      <th></th>\n",
              "      <th>reconstruction_error</th>\n",
              "      <th>true_class</th>\n",
              "    </tr>\n",
              "  </thead>\n",
              "  <tbody>\n",
              "    <tr>\n",
              "      <th>58265</th>\n",
              "      <td>0.223752</td>\n",
              "      <td>0</td>\n",
              "    </tr>\n",
              "    <tr>\n",
              "      <th>26446</th>\n",
              "      <td>0.218209</td>\n",
              "      <td>0</td>\n",
              "    </tr>\n",
              "    <tr>\n",
              "      <th>49158</th>\n",
              "      <td>2.571992</td>\n",
              "      <td>0</td>\n",
              "    </tr>\n",
              "    <tr>\n",
              "      <th>40611</th>\n",
              "      <td>0.040275</td>\n",
              "      <td>0</td>\n",
              "    </tr>\n",
              "    <tr>\n",
              "      <th>49202</th>\n",
              "      <td>0.126945</td>\n",
              "      <td>0</td>\n",
              "    </tr>\n",
              "  </tbody>\n",
              "</table>\n",
              "</div>"
            ],
            "text/plain": [
              "       reconstruction_error  true_class\n",
              "58265              0.223752           0\n",
              "26446              0.218209           0\n",
              "49158              2.571992           0\n",
              "40611              0.040275           0\n",
              "49202              0.126945           0"
            ]
          },
          "metadata": {
            "tags": []
          },
          "execution_count": 236
        }
      ]
    },
    {
      "cell_type": "code",
      "metadata": {
        "colab": {
          "base_uri": "https://localhost:8080/",
          "height": 513
        },
        "id": "mPopRMDoUgN4",
        "outputId": "4cc545ed-3c24-4c32-980c-1fe3e003f5c1"
      },
      "source": [
        "threshold = 6.0\n",
        "\n",
        "groups = error_df.groupby('true_class')\n",
        "fig, ax = plt.subplots(figsize=(12, 8))\n",
        "\n",
        "for name, group in groups:\n",
        "    ax.plot(group.index, group.reconstruction_error, marker='o', ms=2.0, linestyle='',\n",
        "            label = \"Big Loss\" if name == 1 else \"Normal\",\n",
        "            color = \"red\" if name == 1 else \"blue\")\n",
        "ax.hlines(threshold, ax.get_xlim()[0], ax.get_xlim()[1], colors=\"green\", zorder=100, label='Threshold')\n",
        "ax.legend()\n",
        "plt.title(\"Reconstruction error for different classes\")\n",
        "plt.ylabel(\"Reconstruction error\")\n",
        "plt.xlabel(\"Data point index\")\n",
        "plt.show();"
      ],
      "execution_count": null,
      "outputs": [
        {
          "output_type": "display_data",
          "data": {
            "image/png": "[encoded data removed]",
            "text/plain": [
              "<Figure size 864x576 with 1 Axes>"
            ]
          },
          "metadata": {
            "tags": [],
            "needs_background": "light"
          }
        }
      ]
    },
    {
      "cell_type": "code",
      "metadata": {
        "colab": {
          "base_uri": "https://localhost:8080/"
        },
        "id": "wp6bG5GNUlHu",
        "outputId": "9d436f85-1632-405c-cf86-969ff38989db"
      },
      "source": [
        "normal = error_df[error_df.true_class == 0]\n",
        "bigloss = error_df[error_df.true_class == 1]\n",
        "\n",
        "print('Normal Transaction Acc/Days: %d, Transaction Acc/Days of big loss: %d' % (len(normal), len(fraud)))"
      ],
      "execution_count": null,
      "outputs": [
        {
          "output_type": "stream",
          "text": [
            "Normal Transaction Acc/Days: 11982, Transaction Acc/Days of big loss: 13\n"
          ],
          "name": "stdout"
        }
      ]
    },
    {
      "cell_type": "code",
      "metadata": {
        "colab": {
          "base_uri": "https://localhost:8080/"
        },
        "id": "GgT_HuvFUscW",
        "outputId": "9cc6c4a2-6eb2-484e-93d0-f1fa80395367"
      },
      "source": [
        "true_positives = len(bigloss[bigloss.reconstruction_error >= threshold])\n",
        "false_positives = len(normal[normal.reconstruction_error >= threshold])\n",
        "\n",
        "true_negatives = len(normal[normal.reconstruction_error < threshold])\n",
        "false_negatives = len(bigloss[bigloss.reconstruction_error < threshold])\n",
        "\n",
        "print('True positives: %d, true negatives: %d' % (true_positives, true_negatives))\n",
        "print('False positives: %d, false negatives: %d' % (false_positives, false_negatives))"
      ],
      "execution_count": null,
      "outputs": [
        {
          "output_type": "stream",
          "text": [
            "True positives: 0, true negatives: 11929\n",
            "False positives: 53, false negatives: 84\n"
          ],
          "name": "stdout"
        }
      ]
    },
    {
      "cell_type": "code",
      "metadata": {
        "id": "w1-dXDMZU-6s"
      },
      "source": [
        "type(data)"
      ],
      "execution_count": 1,
      "outputs": [
        {
          "output_type": "error",
          "ename": "NameError",
          "evalue": "name 'data' is not defined",
          "traceback": [
            "\u001b[1;31m---------------------------------------------------------------------------\u001b[0m",
            "\u001b[1;31mNameError\u001b[0m                                 Traceback (most recent call last)",
            "\u001b[1;32m<ipython-input-1-b5f01a7c0d9a>\u001b[0m in \u001b[0;36m<module>\u001b[1;34m\u001b[0m\n\u001b[1;32m----> 1\u001b[1;33m \u001b[0mtype\u001b[0m\u001b[1;33m(\u001b[0m\u001b[0mdata\u001b[0m\u001b[1;33m)\u001b[0m\u001b[1;33m\u001b[0m\u001b[1;33m\u001b[0m\u001b[0m\n\u001b[0m",
            "\u001b[1;31mNameError\u001b[0m: name 'data' is not defined"
          ]
        }
      ]
    },
    {
      "cell_type": "code",
      "execution_count": null,
      "metadata": {},
      "outputs": [],
      "source": []
    }
  ]
}